{
 "cells": [
  {
   "cell_type": "code",
   "execution_count": 10,
   "id": "a63893ee-7000-418b-8c9b-d4f10f6711eb",
   "metadata": {},
   "outputs": [],
   "source": [
    "import os\n",
    "import torch\n",
    "import clip\n",
    "from PIL import Image\n",
    "import matplotlib.pyplot as plt\n",
    "import numpy as np\n",
    "from torchvision import transforms\n",
    "from random import shuffle\n",
    "from sklearn.metrics import confusion_matrix, classification_report\n",
    "import seaborn as sns\n",
    "import matplotlib.pyplot as plt\n",
    "import numpy as np\n",
    "from collections import Counter\n",
    "import pandas as pd\n",
    "if not os.path.exists(\"maws\"):\n",
    "    os.system(\"git clone https://github.com/facebookresearch/maws\")\n",
    "    os.chdir(\"maws\")\n",
    "    %pip install timm"
   ]
  },
  {
   "cell_type": "code",
   "execution_count": 11,
   "id": "142fca73-a44f-4f6a-b77d-d1f81753aec2",
   "metadata": {},
   "outputs": [],
   "source": [
    "from maws.maws.model_builder import build_model\n",
    "from maws.maws.utils import start_inference_mode, predict_probs_and_plot"
   ]
  },
  {
   "cell_type": "code",
   "execution_count": 3,
   "id": "2bd7fb5c-773c-4ef6-af82-04297866d6e1",
   "metadata": {},
   "outputs": [
    {
     "name": "stdout",
     "output_type": "stream",
     "text": [
      "[2024-06-25 23:12:12,834] [INFO] [real_accelerator.py:191:get_accelerator] Setting ds_accelerator to cuda (auto detect)\n"
     ]
    },
    {
     "name": "stderr",
     "output_type": "stream",
     "text": [
      "/home/ubuntu/.local/lib/python3.8/site-packages/huggingface_hub/file_download.py:1132: FutureWarning: `resume_download` is deprecated and will be removed in version 1.0.0. Downloads always resume when possible. If you want to force a new download, use `force_download=True`.\n",
      "  warnings.warn(\n",
      "Some weights of RobertaForSequenceClassification were not initialized from the model checkpoint at roberta-base and are newly initialized: ['classifier.dense.bias', 'classifier.dense.weight', 'classifier.out_proj.bias', 'classifier.out_proj.weight']\n",
      "You should probably TRAIN this model on a down-stream task to be able to use it for predictions and inference.\n"
     ]
    },
    {
     "data": {
      "text/plain": [
       "{'input_ids': tensor([[   0,  133, 1569,   21, 5500,    8,   38, 3776,  358, 1151,    9,   24,\n",
       "            4,    2]]), 'attention_mask': tensor([[1, 1, 1, 1, 1, 1, 1, 1, 1, 1, 1, 1, 1, 1]])}"
      ]
     },
     "execution_count": 3,
     "metadata": {},
     "output_type": "execute_result"
    }
   ],
   "source": [
    "from transformers import RobertaTokenizer, RobertaForSequenceClassification\n",
    "import torch\n",
    "\n",
    "# Инициализация токенизатора и модели\n",
    "tokenizer = RobertaTokenizer.from_pretrained('roberta-base')\n",
    "model = RobertaForSequenceClassification.from_pretrained('roberta-base')\n",
    "\n",
    "# Пример текста\n",
    "text = \"The movie was fantastic and I enjoyed every moment of it.\"\n",
    "\n",
    "# Преобразование текста в токены и подготовка для входа в модель\n",
    "inputs = tokenizer(text, return_tensors=\"pt\")\n",
    "inputs"
   ]
  },
  {
   "cell_type": "code",
   "execution_count": 12,
   "id": "27f9056f-89b7-4d73-b4f6-c8091de3bff9",
   "metadata": {},
   "outputs": [],
   "source": [
    "device = \"cuda\"\n",
    "start_inference_mode(device=device)"
   ]
  },
  {
   "cell_type": "code",
   "execution_count": 13,
   "id": "2c55f501-4795-40f3-9f77-64533872ed6c",
   "metadata": {},
   "outputs": [],
   "source": [
    "def get_all_images(folder_path, extensions=(\".jpg\", \".jpeg\", \".png\")):\n",
    "    image_paths = []\n",
    "    for root, dirs, files in sorted(os.walk(folder_path)):\n",
    "        dirs.sort()\n",
    "        files.sort()\n",
    "        for file in files:\n",
    "            if file.lower().endswith(extensions):\n",
    "                image_paths.append(os.path.join(root, file))\n",
    "    return image_paths\n",
    "\n",
    "# Функция для предобработки изображений\n",
    "def preprocess_image(image_path):\n",
    "    img = Image.open(image_path).convert(\"RGB\")\n",
    "    preprocess = transforms.Compose([\n",
    "        transforms.Resize((224, 224)),\n",
    "        transforms.ToTensor(),\n",
    "        transforms.Normalize(mean=[0.485, 0.456, 0.406], std=[0.229, 0.224, 0.225]),\n",
    "    ])\n",
    "    return preprocess(img).unsqueeze(0)"
   ]
  },
  {
   "cell_type": "code",
   "execution_count": 14,
   "id": "25501c28-e39b-4fd4-a0d2-f3e49878f7ff",
   "metadata": {},
   "outputs": [
    {
     "name": "stdout",
     "output_type": "stream",
     "text": [
      "Target Labels: [0, 0, 0, 0, 0, 0]\n",
      "Filenames: ['/home/ubuntu/Kate/clip_alex/clean_img/robbi/1/ROBBi x CHENPENG BUTTERMOON Co-brand Figures 1000%RED@鲨鱼小饱饱 with ROBBi#ROBBi #chenpeng #figures #ROBBiGLOBAL.jpg', '/home/ubuntu/Kate/clip_alex/clean_img/robbi/1/ROBBi x CHENPENG BUTTERMOON Co-brand Figures 1000%RED@鲨鱼小饱饱 with ROBBi#ROBBi #chenpeng #figures #ROBBiGLOBAL (3).jpg', '/home/ubuntu/Kate/clip_alex/clean_img/robbi/1/ROBBi x CHENPENG BUTTERMOON Mid-Autumn Festival theme co-brand series, the beauty of modern fashion, cross-bo.jpg', '/home/ubuntu/Kate/clip_alex/clean_img/robbi/1/ROBBi x CHENPENG BUTTERMOON Co-brand Figures 400%RED@玩具女侠 with ROBBi#ROBBi #chenpeng #figures #ROBBiGLOBAL (1).jpg', '/home/ubuntu/Kate/clip_alex/clean_img/robbi/1/ROBBi x CHENPENG BUTTERMOON Co-brand Figures 1000%RED@海豚Jessy有点辣 with ROBBi#ROBBi #chenpeng #figures #ROBBiGLOBAL (1).jpg', '/home/ubuntu/Kate/clip_alex/clean_img/robbi/1/ROBBi x CHENPENG BUTTERMOON Co-brand Figures 400%RED@玩具女侠 with ROBBi#ROBBi #chenpeng #figures #ROBBiGLOBAL.jpg']\n"
     ]
    }
   ],
   "source": [
    "filenames = []\n",
    "target_labels = []\n",
    "dir_path = '/home/ubuntu/Kate/clip_alex/clean_img/robbi'\n",
    "directories = os.listdir(dir_path)\n",
    "\n",
    "# Separate and exclude '.ipynb_checkpoints' if it exists\n",
    "\n",
    "sorted_directories = sorted(directories, key=lambda x: int(x))\n",
    "\n",
    "for idx, folder in enumerate(sorted_directories):\n",
    "    folder_path = os.path.join(dir_path, folder)\n",
    "    for filename in os.listdir(folder_path):\n",
    "        if not filename.endswith((\".jpg\", \".jpeg\", \".png\")):\n",
    "            continue\n",
    "        filenames.append(os.path.join(folder_path, filename))\n",
    "        target_labels.append(idx)\n",
    "\n",
    "print(\"Target Labels:\", target_labels[:6])\n",
    "print(\"Filenames:\", filenames[:6])"
   ]
  },
  {
   "cell_type": "code",
   "execution_count": 15,
   "id": "55376574-4dd2-49ff-8d74-48c4af5d0f97",
   "metadata": {},
   "outputs": [
    {
     "name": "stdout",
     "output_type": "stream",
     "text": [
      "CLIPConf(embed_dim=1024, vision_encoder_width=1280, text_encoder_width=1024)\n"
     ]
    }
   ],
   "source": [
    "descriptions = [\n",
    "\"The figure features a white and yellow color scheme, with yellow accents on its ears, arms, and boots. It has a transparent helmet with a hat on top, gloves draped like a scarf on the chest, and warm, padded boots on its feet.\",\n",
    "    \"This figure has a red bird highlight on the helmet, sleek black glossy, red patterns on the sleeves and legs, Yin-Yang on the body\",\n",
    "    \"The robot features a transparent head with a triangle and a ball in the center, creating focal point. Its color appears to change depending on the background and lighting, leading to varying light distortions. The body has a blue gradient towards the bottom.\",\n",
    "    \"The robot has a glossy black finish with red accents and displays a 'B' logo on its chest.\",\n",
    "    \"This robot is with a solid dark purple and burgundy color scheme, featuring sharp black protrusions extending from the sleeves. The body is adorned with a prominent emblem. The overall design is sleek with defined edges, emphasizing the sharp contrasts between the dark purple, burgundy, and black elements\",\n",
    "    \"This figure is transparent with a gradient of pastel rainbow colors. Its helmet is filled with small colorful balls.\",\n",
    "    \"The robot is white with a metallic finish on its helmet. It is depicted next to a sleek, futuristic bicycle.\",\n",
    "    \"This robot is purple with a metallic sheen and is positioned beside a matching futuristic chair.\",\n",
    "    \"The figure is transparent orange with intricate flower patterns embedded throughout its body. It has a glossy finish and the branding 'CREED 1760' is prominently displayed on its chest.\",\n",
    "    \"This robot is made of transparent material with colored geometric patterns, including squares and rectangles, in primary colors such as red, blue, and yellow on the head and chest.\",\n",
    "    \"The robot has a shiny golden finish with intricate floral patterns in various colors on its body and ears.\",\n",
    "    \"This robot is predominantly green with white lines resembling tactical sports diagrams. It features a reflective helmet with 'LALIGA' written on it.\",\n",
    "    \"This figure is dark green with black accents and yellow details. It has the 'Aston Martin Shanghai' logo on its chest.\",\n",
    "    \"The robot is porcelain white body with blue Gzhel patterns on the sleeves, ear, shoes, and bottom of the helmet, emblem on the body.\",\n",
    "    \"This pink robot is made of transparent, iridescent material with a pink heart emblem on its chest and helmet. Not yellow\",\n",
    "    \"The robot is transparent body with a yelow hue, a pink heart inside the helmet, text on the body\",\n",
    "    \"This white robot with a translucent tint, snow patterns, transparent helmet inside, various small shiny objects, white ear tips.\",\n",
    "    \"The grey robot is metallic silver with black accents and features the Lamborghini logo on its chest.\",\n",
    "    \"The robot is made of transparent purple material with a heart emblem on its chest and helmet,without triangle and pink\",\n",
    "    \"The robot is completely gold with a highly reflective, shiny surface.\",\n",
    "    \"The robot features a pink transparent head and ears, with a silver body. It has a pink heart emblem on its chest.\",\n",
    "    \"This figure is red-orange, black helmet, red ears, matte.\",\n",
    "    \"The robot has an iridescent, transparent body with a blue and red helmet and sole. blue NBA jersey with red stripes. It features NBA branding and a basketball jersey design.\",\n",
    "    \"This figure is covered entirely with various NBA team stickers, creating a collage effect across its body and ears.\",\n",
    "    \"The robot is transparent with yellow ears, arms, and shoes. It has red accents and a 'Peko' logo on its chest.\",\n",
    "    \"The robot is black with a shiny silver helmet and a red visor line. It has a minimalist, futuristic design.\",\n",
    "    \"This figure is entirely black with intricate patterns on its ears and chest. The body is matte and smooth, shiny patterns on the body and ears\",\n",
    "    \"The robot features a gradient of colors, with red ears, a yellow body, turquoise legs, and purple shoes.\",\n",
    "    \"The robot has a deep blue transparent body and helmet, giving it a sleek and glossy appearance.\",\n",
    "    \"This figure is white with red and silver detailing. It has a clear, reflective helmet.\",\n",
    "    \"The robot has a metallic blue reflective body and helmet. It features a clear visor with white patterns and the word 'Swift' on its chest. Not purple!\",\n",
    "    \"The robot is transparent with pink ears, arms, and boots. It features various white line drawings and symbols on its body.Has no heart inside the helmet!not yellow\",\n",
    "    \"The robot has an iridescent, rainbow-like color with predominant white and pink shades that change depending on the lighting, the transparent visor, a pink and green stripe on the helmet, and the 'Wilson' inscription on the chest.\",\n",
    "    \"This figure is brown or bronze, made of wood.\",\n",
    "    \"The robot is covered in long, white fur with a reflective visor.\"\n",
    "]\n",
    "\n",
    "labels = descriptions\n",
    "\n",
    "# Загрузка модели MAWS-CLIP\n",
    "device = \"cuda\" if torch.cuda.is_available() else \"cpu\"\n",
    "model = build_model(\"vit_h14_xlmr_l\", \"maws_clip\").to(device)\n",
    "#model = build_model(\"vit_2b14_xlmr_l\", \"maws_clip\").to(device)\n",
    "\n",
    "_ = model.eval()"
   ]
  },
  {
   "cell_type": "code",
   "execution_count": 16,
   "id": "8a5a28da-0340-4244-8a08-44e7bae7b5f9",
   "metadata": {},
   "outputs": [],
   "source": [
    "def predict_top_k(model, image_path, texts, k=5):\n",
    "    image = preprocess_image(image_path).to(device)\n",
    "    \n",
    "    with torch.no_grad():\n",
    "        image_features = model.encode_images(image).float()\n",
    "        image_features /= image_features.norm(dim=-1, keepdim=True)\n",
    "        text_features = model.encode_texts(texts).float()\n",
    "        text_features /= text_features.norm(dim=-1, keepdim=True)\n",
    "\n",
    "    text_probs = (100.0 * image_features @ text_features.T).softmax(dim=-1)\n",
    "    top_k_indices = text_probs.cpu().topk(k, dim=-1).indices[0]\n",
    "    \n",
    "    return top_k_indices, text_probs[0, top_k_indices]\n",
    "\n",
    "all_top_k_indices = []\n",
    "all_true_labels = []\n",
    "\n",
    "for image_path, true_label in zip(filenames, target_labels):\n",
    "    top_k_indices, _ = predict_top_k(model, image_path, labels, k=5)\n",
    "    all_top_k_indices.append(top_k_indices)\n",
    "    all_true_labels.append(true_label)\n",
    "\n",
    "top_1_predictions = [indices[0].item() for indices in all_top_k_indices]\n",
    "\n",
    "#print(classification_report(all_true_labels, top_1_predictions, target_names=labels))"
   ]
  },
  {
   "cell_type": "code",
   "execution_count": 17,
   "id": "1d5d4317-8e4f-4a77-83fc-ce1852205b75",
   "metadata": {},
   "outputs": [
    {
     "name": "stdout",
     "output_type": "stream",
     "text": [
      "    Label Index                                              Label  \\\n",
      "15           15  The robot is transparent body with a yelow hue...   \n",
      "1             1  This figure has a red bird highlight on the he...   \n",
      "27           27  The robot features a gradient of colors, with ...   \n",
      "33           33      This figure is brown or bronze, made of wood.   \n",
      "30           30  The robot has a metallic blue reflective body ...   \n",
      "24           24  The robot is transparent with yellow ears, arm...   \n",
      "18           18  The robot is made of transparent purple materi...   \n",
      "14           14  This pink robot is made of transparent, irides...   \n",
      "12           12  This figure is dark green with black accents a...   \n",
      "32           32  The robot has an iridescent, rainbow-like colo...   \n",
      "25           25  The robot is black with a shiny silver helmet ...   \n",
      "21           21  This figure is red-orange, black helmet, red e...   \n",
      "7             7  This robot is purple with a metallic sheen and...   \n",
      "16           16  This white robot with a translucent tint, snow...   \n",
      "29           29  This figure is white with red and silver detai...   \n",
      "34           34  The robot is covered in long, white fur with a...   \n",
      "13           13  The robot is porcelain white body with blue Gz...   \n",
      "10           10  The robot has a shiny golden finish with intri...   \n",
      "9             9  This robot is made of transparent material wit...   \n",
      "19           19  The robot is completely gold with a highly ref...   \n",
      "20           20  The robot features a pink transparent head and...   \n",
      "8             8  The figure is transparent orange with intricat...   \n",
      "2             2  The robot features a transparent head with a t...   \n",
      "28           28  The robot has a deep blue transparent body and...   \n",
      "31           31  The robot is transparent with pink ears, arms,...   \n",
      "26           26  This figure is entirely black with intricate p...   \n",
      "0             0  The figure features a white and yellow color s...   \n",
      "22           22  The robot has an iridescent, transparent body ...   \n",
      "11           11  This robot is predominantly green with white l...   \n",
      "6             6  The robot is white with a metallic finish on i...   \n",
      "5             5  This figure is transparent with a gradient of ...   \n",
      "4             4  This robot is with a solid dark purple and bur...   \n",
      "3             3  The robot has a glossy black finish with red a...   \n",
      "23           23  This figure is covered entirely with various N...   \n",
      "17           17  The grey robot is metallic silver with black a...   \n",
      "\n",
      "    Top-5 Accuracy  \n",
      "15            0.00  \n",
      "1            10.53  \n",
      "27           13.33  \n",
      "33           20.00  \n",
      "30           35.00  \n",
      "24           55.00  \n",
      "18           66.67  \n",
      "14           68.75  \n",
      "12           72.22  \n",
      "32           73.33  \n",
      "25           75.00  \n",
      "21           78.95  \n",
      "7            80.00  \n",
      "16           81.82  \n",
      "29           81.82  \n",
      "34           82.35  \n",
      "13           85.71  \n",
      "10           85.71  \n",
      "9            87.50  \n",
      "19           88.89  \n",
      "20           90.00  \n",
      "8            95.83  \n",
      "2            96.30  \n",
      "28          100.00  \n",
      "31          100.00  \n",
      "26          100.00  \n",
      "0           100.00  \n",
      "22          100.00  \n",
      "11          100.00  \n",
      "6           100.00  \n",
      "5           100.00  \n",
      "4           100.00  \n",
      "3           100.00  \n",
      "23          100.00  \n",
      "17          100.00  \n",
      "\n",
      "Overall Top-5 Accuracy: 78.53%\n"
     ]
    }
   ],
   "source": [
    "top_5_correct = []\n",
    "for true_label, top_k in zip(all_true_labels, all_top_k_indices):\n",
    "    top_5_correct.append(true_label in top_k)\n",
    "\n",
    "total_images_per_category = Counter(all_true_labels)\n",
    "\n",
    "# Calculate Top-5 accuracy per category\n",
    "top_5_accuracy_per_category = {}\n",
    "for label in total_images_per_category.keys():\n",
    "    correct_predictions = sum(1 for i, correct in enumerate(top_5_correct) if all_true_labels[i] == label and correct)\n",
    "    top_5_accuracy_per_category[label] = round((correct_predictions / total_images_per_category[label]) * 100, 2)\n",
    "\n",
    "# Calculate overall Top-5 accuracy\n",
    "overall_top_5_accuracy = round((sum(top_5_correct) / len(all_true_labels)) * 100, 2)\n",
    "\n",
    "top_5_accuracy_table = []\n",
    "for label, accuracy in top_5_accuracy_per_category.items():\n",
    "    top_5_accuracy_table.append([label, labels[label], accuracy])\n",
    "\n",
    "top_5_accuracy_df = pd.DataFrame(top_5_accuracy_table, columns=['Label Index', 'Label', 'Top-5 Accuracy'])\n",
    "print(top_5_accuracy_df.sort_values(by=\"Top-5 Accuracy\"))\n",
    "\n",
    "print(f\"\\nOverall Top-5 Accuracy: {overall_top_5_accuracy}%\")\n",
    "large = top_5_accuracy_df.sort_values(by=\"Top-5 Accuracy\")[\"Top-5 Accuracy\"].values.astype(float)\n",
    "top_5_accuracy_df.to_csv(\"top_5_accuracy_df1.csv\", index=False)"
   ]
  }
 ],
 "metadata": {
  "kernelspec": {
   "display_name": "Python 3",
   "language": "python",
   "name": "python3"
  },
  "language_info": {
   "codemirror_mode": {
    "name": "ipython",
    "version": 3
   },
   "file_extension": ".py",
   "mimetype": "text/x-python",
   "name": "python",
   "nbconvert_exporter": "python",
   "pygments_lexer": "ipython3",
   "version": "3.8.10"
  }
 },
 "nbformat": 4,
 "nbformat_minor": 5
}
