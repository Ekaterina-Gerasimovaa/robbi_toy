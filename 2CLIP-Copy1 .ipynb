{
 "cells": [
  {
   "cell_type": "markdown",
   "metadata": {},
   "source": [
    "Overall Top-5 Accuracy"
   ]
  },
  {
   "cell_type": "code",
   "execution_count": 60,
   "metadata": {
    "id": "vQL2L-8YAfjC"
   },
   "outputs": [],
   "source": [
    "## CLIP package installation"
   ]
  },
  {
   "cell_type": "code",
   "execution_count": 1,
   "metadata": {
    "id": "_o_GoEr8jIP7"
   },
   "outputs": [],
   "source": [
    "%%capture\n",
    "!conda install --yes -c pytorch pytorch=1.7.1 torchvision cudatoolkit=11.0\n",
    "!pip install ftfy regex tqdm\n",
    "!pip install git+https://github.com/openai/CLIP.git"
   ]
  },
  {
   "cell_type": "code",
   "execution_count": 2,
   "metadata": {
    "id": "lGLl_oRwjYFm"
   },
   "outputs": [],
   "source": [
    "import torch\n",
    "import clip\n",
    "from PIL import Image\n",
    "import matplotlib.pyplot as plt\n",
    "import numpy as np"
   ]
  },
  {
   "cell_type": "code",
   "execution_count": 3,
   "metadata": {
    "id": "gEEB7jtSIptn"
   },
   "outputs": [],
   "source": [
    "device = \"cuda\" if torch.cuda.is_available() else \"cpu\"\n",
    "model, preprocess = clip.load(\"ViT-B/32\", device=device)\n",
    "#model is CLIP model, preproccess is an image transformation for the model"
   ]
  },
  {
   "cell_type": "code",
   "execution_count": 11,
   "metadata": {},
   "outputs": [],
   "source": [
    "type(model)"
   ]
  },
  {
   "cell_type": "code",
   "execution_count": 7,
   "metadata": {},
   "outputs": [],
   "source": [
    "preprocess"
   ]
  },
  {
   "cell_type": "markdown",
   "metadata": {
    "id": "bYkZzMIuAsZv"
   },
   "source": [
    "## Text labels for CLIP"
   ]
  },
  {
   "cell_type": "markdown",
   "metadata": {
    "id": "K2DNEiNHA4xx"
   },
   "source": [
    "## Downloading from Google Images "
   ]
  },
  {
   "cell_type": "code",
   "execution_count": 12,
   "metadata": {},
   "outputs": [],
   "source": [
    "import zipfile\n",
    "import os\n",
    "\n",
    "zip_file_path = '/home/ubuntu/Kate/clip_alex/4robbi.zip'\n",
    "extract_folder_path = '/home/ubuntu/Kate/clip_alex/clean_img'\n",
    "if not os.path.exists(extract_folder_path):\n",
    "    os.makedirs(extract_folder_path)\n",
    "\n",
    "\n",
    "with zipfile.ZipFile(zip_file_path, 'r') as zip_ref:\n",
    "    zip_ref.extractall(extract_folder_path)\n",
    "\n",
    "print(f'Файлы распакованы в: {extract_folder_path}')\n",
    "\n",
    "\n",
    "for root, dirs, files in os.walk(extract_folder_path):\n",
    "    print(f'В каталоге {root} найдено {len(dirs)} подкаталогов и {len(files)} файлов')"
   ]
  },
  {
   "cell_type": "code",
   "execution_count": 12,
   "metadata": {},
   "outputs": [],
   "source": [
    "import os\n",
    "\n",
    "# Path to the directory where you want to remove .ipynb_checkpoints\n",
    "dir_path = '/home/ubuntu/Kate/clip_alex/top_top'\n",
    "\n",
    "\n",
    "def remove_checkpoints(path):\n",
    "    for root, dirs, files in os.walk(path):\n",
    "        if '.ipynb_checkpoints' in dirs:\n",
    "            checkpoint_path = os.path.join(root, '.ipynb_checkpoints')\n",
    "            print(f\"Removing {checkpoint_path}\")\n",
    "            os.rmdir(checkpoint_path)\n",
    "\n",
    "remove_checkpoints(dir_path)"
   ]
  },
  {
   "cell_type": "code",
   "execution_count": 4,
   "metadata": {},
   "outputs": [
    {
     "name": "stdout",
     "output_type": "stream",
     "text": [
      "Sorted directories including .ipynb_checkpoints at the beginning:\n",
      "['1', '2', '3', '4', '5', '6', '7', '8', '9', '10', '11', '12', '13', '14', '15', '16', '17', '18', '19', '20', '21', '22', '23', '24', '25', '26', '27', '28', '29', '30', '31', '32', '33', '34', '35']\n"
     ]
    }
   ],
   "source": [
    "import os\n",
    "dir_path = '/home/ubuntu/Kate/clip_alex/clean_img/robbi'\n",
    "\n",
    "# Get list of directories\n",
    "directories = os.listdir(dir_path)\n",
    "\n",
    "# Separate and exclude '.ipynb_checkpoints' if it exists\n",
    "sorted_directories = sorted(directories, key=lambda x: int(x))\n",
    "\n",
    "print(\"Sorted directories including .ipynb_checkpoints at the beginning:\")\n",
    "print(sorted_directories)\n"
   ]
  },
  {
   "cell_type": "markdown",
   "metadata": {},
   "source": [
    "## Model"
   ]
  },
  {
   "cell_type": "code",
   "execution_count": 11,
   "metadata": {},
   "outputs": [
    {
     "name": "stdout",
     "output_type": "stream",
     "text": [
      "Target Labels: [0, 0, 0, 0, 0, 0]\n",
      "Filenames: ['/home/ubuntu/Kate/clip_alex/clean_img/robbi/1/ROBBi x CHENPENG BUTTERMOON Co-brand Figures 1000%RED@鲨鱼小饱饱 with ROBBi#ROBBi #chenpeng #figures #ROBBiGLOBAL.jpg', '/home/ubuntu/Kate/clip_alex/clean_img/robbi/1/ROBBi x CHENPENG BUTTERMOON Co-brand Figures 1000%RED@鲨鱼小饱饱 with ROBBi#ROBBi #chenpeng #figures #ROBBiGLOBAL (3).jpg', '/home/ubuntu/Kate/clip_alex/clean_img/robbi/1/ROBBi x CHENPENG BUTTERMOON Mid-Autumn Festival theme co-brand series, the beauty of modern fashion, cross-bo.jpg', '/home/ubuntu/Kate/clip_alex/clean_img/robbi/1/ROBBi x CHENPENG BUTTERMOON Co-brand Figures 400%RED@玩具女侠 with ROBBi#ROBBi #chenpeng #figures #ROBBiGLOBAL (1).jpg', '/home/ubuntu/Kate/clip_alex/clean_img/robbi/1/ROBBi x CHENPENG BUTTERMOON Co-brand Figures 1000%RED@海豚Jessy有点辣 with ROBBi#ROBBi #chenpeng #figures #ROBBiGLOBAL (1).jpg', '/home/ubuntu/Kate/clip_alex/clean_img/robbi/1/ROBBi x CHENPENG BUTTERMOON Co-brand Figures 400%RED@玩具女侠 with ROBBi#ROBBi #chenpeng #figures #ROBBiGLOBAL.jpg']\n"
     ]
    }
   ],
   "source": [
    "import os\n",
    "from random import shuffle\n",
    "import torch\n",
    "import clip\n",
    "from PIL import Image\n",
    "from sklearn.metrics import confusion_matrix, classification_report\n",
    "import seaborn as sns\n",
    "import matplotlib.pyplot as plt\n",
    "\n",
    "filenames = []\n",
    "target_labels = []\n",
    "dir_path = '/home/ubuntu/Kate/clip_alex/clean_img/robbi'\n",
    "directories = os.listdir(dir_path)\n",
    "\n",
    "sorted_directories = sorted(directories, key=lambda x: int(x))\n",
    "\n",
    "for idx, folder in enumerate(sorted_directories):\n",
    "    folder_path = os.path.join(dir_path, folder)\n",
    "    for filename in os.listdir(folder_path):\n",
    "        if not filename.endswith(('.jpg', '.jpeg', '.png')):\n",
    "            continue\n",
    "        filenames.append(os.path.join(folder_path, filename))\n",
    "        target_labels.append(idx)\n",
    "\n",
    "print(\"Target Labels:\", target_labels[:6])\n",
    "print(\"Filenames:\", filenames[:6])\n",
    "\n",
    "# Текстовые описания каждой уникальной игрушки\n",
    "descriptions = [\n",
    "    \"The figure features a white and yellow color scheme, with yellow accents on its ears, arms, and boots. It has a transparent helmet with a hat on top, gloves draped like a scarf on the chest, and warm, padded boots on its feet.\",\n",
    "    \"This figure has a red bird highlight on the helmet, sleek black glossy, red patterns on the sleeves and legs, Yin-Yang on the body\",\n",
    "    \"The robot features a transparent head with a triangle and a ball in the center, creating focal point. Its color appears to change depending on the background and lighting, leading to varying light distortions. The body has a blue gradient towards the bottom.\",\n",
    "    \"The robot has a glossy black finish with red accents and displays a 'B' logo on its chest.\",\n",
    "    \"This robot is with a solid dark purple and burgundy color scheme, featuring sharp black protrusions extending from the sleeves. The body is adorned with a prominent emblem. The overall design is sleek with defined edges, emphasizing the sharp contrasts between the dark purple, burgundy, and black elements\",\n",
    "    \"This figure is transparent with a gradient of pastel rainbow colors. Its helmet is filled with small colorful balls.\",\n",
    "    \"The robot is white with a metallic finish on its helmet. It is depicted next to a sleek, futuristic bicycle.\",\n",
    "    \"This robot is purple with a metallic sheen and is positioned beside a matching futuristic chair.\",\n",
    "    \"The figure is transparent orange with intricate flower patterns embedded throughout its body. It has a glossy finish and the branding 'CREED 1760' is prominently displayed on its chest.\",\n",
    "    \"This robot is made of transparent material with colored geometric patterns, including squares and rectangles, in primary colors such as red, blue, and yellow on the head and chest.\",\n",
    "    \"The robot has a shiny golden finish with intricate floral patterns in various colors on its body and ears.\",\n",
    "    \"This robot is predominantly green with white lines resembling tactical sports diagrams. It features a reflective helmet with 'LALIGA' written on it.\",\n",
    "    \"This figure is dark green with black accents and yellow details. It has the 'Aston Martin Shanghai' logo on its chest.\",\n",
    "    \"The robot is porcelain white body with blue Gzhel patterns on the sleeves, ear, shoes, and bottom of the helmet, emblem on the body.\",\n",
    "    \"This pink robot is made of transparent, iridescent material with a pink heart emblem on its chest and helmet. Not yellow\",\n",
    "    \"The robot is transparent body with a yelow hue, a pink heart inside the helmet, text on the body\",\n",
    "    \"This white robot with a translucent tint, snow patterns, transparent helmet inside, various small shiny objects, white ear tips.\",\n",
    "    \"The grey robot is metallic silver with black accents and features the Lamborghini logo on its chest.\",\n",
    "    \"The robot is made of transparent purple material with a heart emblem on its chest and helmet,without triangle and pink\",\n",
    "    \"The robot is completely gold with a highly reflective, shiny surface.\",\n",
    "    \"The robot features a pink transparent head and ears, with a silver body. It has a pink heart emblem on its chest.\",\n",
    "    \"This figure is red-orange, black helmet, red ears, matte.\",\n",
    "    \"The robot has an iridescent, transparent body with a blue and red helmet and sole. blue NBA jersey with red stripes. It features NBA branding and a basketball jersey design.\",\n",
    "    \"This figure is covered entirely with various NBA team stickers, creating a collage effect across its body and ears.\",\n",
    "    \"The robot is transparent with yellow ears, arms, and shoes. It has red accents and a 'Peko' logo on its chest.\",\n",
    "    \"The robot is black with a shiny silver helmet and a red visor line. It has a minimalist, futuristic design.\",\n",
    "    \"This figure is entirely black with intricate patterns on its ears and chest. The body is matte and smooth, shiny patterns on the body and ears\",\n",
    "    \"The robot features a gradient of colors, with red ears, a yellow body, turquoise legs, and purple shoes.\",\n",
    "    \"The robot has a deep blue transparent body and helmet, giving it a sleek and glossy appearance.\",\n",
    "    \"This figure is white with red and silver detailing. It has a clear, reflective helmet.\",\n",
    "    \"The robot has a metallic blue reflective body and helmet. It features a clear visor with white patterns and the word 'Swift' on its chest. Not purple!\",\n",
    "    \"The robot is transparent with pink ears, arms, and boots. It features various white line drawings and symbols on its body.Has no heart inside the helmet!not yellow\",\n",
    "    \"The robot has an iridescent, rainbow-like color with predominant white and pink shades that change depending on the lighting, the transparent visor, a pink and green stripe on the helmet, and the 'Wilson' inscription on the chest.\",\n",
    "    \"This figure is brown or bronze, made of wood.\",\n",
    "    \"The robot is covered in long, white fur with a reflective visor.\"\n",
    "]\n",
    "\n",
    "# Привязываем эти описания к индексам, 1 описание соответстует 1 папке \n",
    "labels = descriptions\n",
    "\n",
    "# Загрузка модели CLIP\n",
    "device = \"cuda\" if torch.cuda.is_available() else \"cpu\"\n",
    "model, preprocess = clip.load(\"ViT-L/14@336px\", device=device)\n",
    "\n",
    "# Функция предсказания top-k меток\n",
    "def predict_top_k(model, image_path, texts, k=5):\n",
    "    image = preprocess(Image.open(image_path)).unsqueeze(0).to(device)\n",
    "    text = clip.tokenize(texts).to(device)\n",
    "    \n",
    "    with torch.no_grad():\n",
    "        image_features = model.encode_image(image).float()\n",
    "        image_features /= image_features.norm(dim=-1, keepdim=True)\n",
    "        text_features = model.encode_text(text).float()\n",
    "        text_features /= text_features.norm(dim=-1, keepdim=True)\n",
    "\n",
    "    text_probs = (100.0 * image_features @ text_features.T).softmax(dim=-1)\n",
    "    top_k_indices = text_probs.cpu().topk(k, dim=-1).indices[0]\n",
    "    \n",
    "    return top_k_indices, text_probs[0, top_k_indices]\n",
    "\n",
    "all_top_k_indices = []\n",
    "all_true_labels = []\n",
    "\n",
    "for image_path, true_label in zip(filenames, target_labels):\n",
    "    top_k_indices, _ = predict_top_k(model, image_path, labels, k=5)\n",
    "    all_top_k_indices.append(top_k_indices)\n",
    "    all_true_labels.append(true_label)\n",
    "\n",
    "top_1_predictions = [indices[0].item() for indices in all_top_k_indices]\n",
    "\n",
    "print(classification_report(all_true_labels, top_1_predictions, target_names=labels))\n"
   ]
  },
  {
   "cell_type": "code",
   "execution_count": 6,
   "metadata": {},
   "outputs": [],
   "source": [
    "device = \"cuda\" if torch.cuda.is_available() else \"cpu\"\n",
    "model, preprocess = clip.load(\"ViT-L/14@336px\", device=device)"
   ]
  },
  {
   "cell_type": "markdown",
   "metadata": {},
   "source": [
    "# Overall"
   ]
  },
  {
   "cell_type": "code",
   "execution_count": 18,
   "metadata": {},
   "outputs": [
    {
     "name": "stdout",
     "output_type": "stream",
     "text": [
      "    Label Index                                              Label  \\\n",
      "26           26  This figure is entirely black with intricate p...   \n",
      "7             7  This robot is purple with a metallic sheen and...   \n",
      "9             9  This robot is made of transparent material wit...   \n",
      "6             6  The robot is white with a metallic finish on i...   \n",
      "29           29  This figure is white with red and silver detai...   \n",
      "0             0  The figure features a white and yellow color s...   \n",
      "17           17  The grey robot is metallic silver with black a...   \n",
      "8             8  The figure is transparent orange with intricat...   \n",
      "33           33      This figure is brown or bronze, made of wood.   \n",
      "31           31  The robot is transparent with pink ears, arms,...   \n",
      "13           13  The robot is porcelain white body with blue Gz...   \n",
      "21           21  This figure is red-orange, black helmet, red e...   \n",
      "2             2  The robot features a transparent head with a t...   \n",
      "10           10  The robot has a shiny golden finish with intri...   \n",
      "25           25  The robot is black with a shiny silver helmet ...   \n",
      "32           32  The robot has an iridescent, rainbow-like colo...   \n",
      "27           27  The robot features a gradient of colors, with ...   \n",
      "14           14  This pink robot is made of transparent, irides...   \n",
      "1             1  This figure has a red bird highlight on the he...   \n",
      "11           11  This robot is predominantly green with white l...   \n",
      "4             4  This robot is with a solid dark purple and bur...   \n",
      "30           30  The robot has a metallic blue reflective body ...   \n",
      "28           28  The robot has a deep blue transparent body and...   \n",
      "24           24  The robot is transparent with yellow ears, arm...   \n",
      "20           20  The robot features a pink transparent head and...   \n",
      "22           22  The robot has an iridescent, transparent body ...   \n",
      "5             5  This figure is transparent with a gradient of ...   \n",
      "19           19  The robot is completely gold with a highly ref...   \n",
      "18           18  The robot is made of transparent purple materi...   \n",
      "16           16  This white robot with a translucent tint, snow...   \n",
      "15           15  The robot is transparent body with a yelow hue...   \n",
      "12           12  This figure is dark green with black accents a...   \n",
      "3             3  The robot has a glossy black finish with red a...   \n",
      "23           23  This figure is covered entirely with various N...   \n",
      "34           34  The robot is covered in long, white fur with a...   \n",
      "\n",
      "    Top-5 Accuracy  \n",
      "26           42.86  \n",
      "7            60.00  \n",
      "9            62.50  \n",
      "6            71.43  \n",
      "29           72.73  \n",
      "0            78.57  \n",
      "17           78.57  \n",
      "8            79.17  \n",
      "33           80.00  \n",
      "31           85.71  \n",
      "13           85.71  \n",
      "21           86.84  \n",
      "2            92.59  \n",
      "10           92.86  \n",
      "25           92.86  \n",
      "32           93.33  \n",
      "27           93.33  \n",
      "14           93.75  \n",
      "1            94.74  \n",
      "11           95.24  \n",
      "4           100.00  \n",
      "30          100.00  \n",
      "28          100.00  \n",
      "24          100.00  \n",
      "20          100.00  \n",
      "22          100.00  \n",
      "5           100.00  \n",
      "19          100.00  \n",
      "18          100.00  \n",
      "16          100.00  \n",
      "15          100.00  \n",
      "12          100.00  \n",
      "3           100.00  \n",
      "23          100.00  \n",
      "34          100.00  \n",
      "\n",
      "Overall Top-5 Accuracy: 89.27%\n"
     ]
    }
   ],
   "source": [
    "import os\n",
    "from random import shuffle\n",
    "import torch\n",
    "import clip\n",
    "from PIL import Image\n",
    "from sklearn.metrics import confusion_matrix, classification_report\n",
    "import seaborn as sns\n",
    "import matplotlib.pyplot as plt\n",
    "import numpy as np\n",
    "from collections import Counter\n",
    "import pandas as pd\n",
    "\n",
    "top_5_correct = []\n",
    "for true_label, top_k in zip(all_true_labels, all_top_k_indices):\n",
    "    top_5_correct.append(true_label in top_k)\n",
    "\n",
    "total_images_per_category = Counter(all_true_labels)\n",
    "\n",
    "# Calculate Top-5 accuracy per category\n",
    "top_5_accuracy_per_category = {}\n",
    "for label in total_images_per_category.keys():\n",
    "    correct_predictions = sum(1 for i, correct in enumerate(top_5_correct) if all_true_labels[i] == label and correct)\n",
    "    top_5_accuracy_per_category[label] = round((correct_predictions / total_images_per_category[label]) * 100, 2)\n",
    "\n",
    "# Calculate overall Top-5 accuracy\n",
    "overall_top_5_accuracy = round((sum(top_5_correct) / len(all_true_labels)) * 100, 2)\n",
    "\n",
    "top_5_accuracy_table = []\n",
    "for label, accuracy in top_5_accuracy_per_category.items():\n",
    "    top_5_accuracy_table.append([label, labels[label], accuracy])\n",
    "\n",
    "top_5_accuracy_df = pd.DataFrame(top_5_accuracy_table, columns=['Label Index', 'Label', 'Top-5 Accuracy'])\n",
    "print(top_5_accuracy_df.sort_values(by=\"Top-5 Accuracy\"))\n",
    "\n",
    "print(f\"\\nOverall Top-5 Accuracy: {overall_top_5_accuracy}%\")\n",
    "large = top_5_accuracy_df.sort_values(by=\"Top-5 Accuracy\")[\"Top-5 Accuracy\"].values.astype(float)\n",
    "top_5_accuracy_df.to_csv(\"top_5_accuracy_df1.csv\", index=False)"
   ]
  },
  {
   "cell_type": "code",
   "execution_count": 74,
   "metadata": {},
   "outputs": [],
   "source": [
    "import os\n",
    "from random import shuffle\n",
    "import torch\n",
    "import clip\n",
    "from PIL import Image\n",
    "from sklearn.metrics import confusion_matrix, classification_report\n",
    "import seaborn as sns\n",
    "import matplotlib.pyplot as plt\n",
    "import numpy as np\n",
    "from collections import Counter\n",
    "import pandas as pd\n",
    "\n",
    "top_5_correct = []\n",
    "for true_label, top_k in zip(all_true_labels, all_top_k_indices):\n",
    "    top_5_correct.append(true_label in top_k)\n",
    "\n",
    "total_images_per_category = Counter(all_true_labels)\n",
    "\n",
    "# Calculate Top-5 accuracy per category\n",
    "top_5_accuracy_per_category = {}\n",
    "for label in total_images_per_category.keys():\n",
    "    correct_predictions = sum(1 for i, correct in enumerate(top_5_correct) if all_true_labels[i] == label and correct)\n",
    "    top_5_accuracy_per_category[label] = round((correct_predictions / total_images_per_category[label]) * 100, 2)\n",
    "\n",
    "# Calculate overall Top-5 accuracy\n",
    "overall_top_5_accuracy = round((sum(top_5_correct) / len(all_true_labels)) * 100, 2)\n",
    "\n",
    "top_5_accuracy_table = []\n",
    "for label, accuracy in top_5_accuracy_per_category.items():\n",
    "    top_5_accuracy_table.append([label, labels[label], accuracy])\n",
    "\n",
    "top_5_accuracy_df = pd.DataFrame(top_5_accuracy_table, columns=['Label Index', 'Label', 'Top-5 Accuracy'])\n",
    "print(top_5_accuracy_df.sort_values(by=\"Top-5 Accuracy\"))\n",
    "\n",
    "print(f\"\\nOverall Top-5 Accuracy: {overall_top_5_accuracy}%\")\n",
    "large = top_5_accuracy_df.sort_values(by=\"Top-5 Accuracy\")[\"Top-5 Accuracy\"].values.astype(float)\n",
    "top_5_accuracy_df.to_csv(\"top_5_accuracy_df1.csv\", index=False)"
   ]
  },
  {
   "cell_type": "code",
   "execution_count": 55,
   "metadata": {},
   "outputs": [],
   "source": [
    "top_5_correct = []\n",
    "for true_label, top_k in zip(all_true_labels, all_top_k_indices):\n",
    "    top_5_correct.append(true_label in top_k)\n",
    "\n",
    "total_images_per_category = Counter(all_true_labels)\n",
    "\n",
    "# Calculate Top-5 accuracy per category\n",
    "top_5_accuracy_per_category = {}\n",
    "for label in total_images_per_category.keys():\n",
    "    correct_predictions = sum(1 for i, correct in enumerate(top_5_correct) if all_true_labels[i] == label and correct)\n",
    "    top_5_accuracy_per_category[label] = round((correct_predictions / total_images_per_category[label]) * 100, 2)\n",
    "\n",
    "# Calculate overall Top-5 accuracy\n",
    "overall_top_5_accuracy = round((sum(top_5_correct) / len(all_true_labels)) * 100, 2)\n",
    "\n",
    "top_5_accuracy_table = []\n",
    "for label, accuracy in top_5_accuracy_per_category.items():\n",
    "    top_5_accuracy_table.append([label, labels[label], accuracy])\n",
    "\n",
    "top_5_accuracy_df = pd.DataFrame(top_5_accuracy_table, columns=['Label Index', 'Label', 'Top-5 Accuracy'])\n",
    "print(top_5_accuracy_df.sort_values(by=\"Top-5 Accuracy\"))\n",
    "\n",
    "print(f\"\\nOverall Top-5 Accuracy: {overall_top_5_accuracy}%\")\n",
    "base = top_5_accuracy_df.sort_values(by=\"Top-5 Accuracy\")[\"Top-5 Accuracy\"].values.astype(float)\n",
    "top_5_accuracy_df.to_csv(\"top_5_accuracy_df1.csv\", index=False)"
   ]
  },
  {
   "cell_type": "code",
   "execution_count": 75,
   "metadata": {},
   "outputs": [],
   "source": [
    "large"
   ]
  },
  {
   "cell_type": "code",
   "execution_count": 56,
   "metadata": {},
   "outputs": [],
   "source": [
    "import matplotlib.pyplot as plt\n",
    "plt.plot(large, label = 'large')\n",
    "plt.plot(base, label = 'base')\n",
    "plt.legend()\n",
    "plt.show()"
   ]
  },
  {
   "cell_type": "markdown",
   "metadata": {},
   "source": [
    "# Топ 5 ошибок для каждой категории"
   ]
  },
  {
   "cell_type": "code",
   "execution_count": 63,
   "metadata": {},
   "outputs": [],
   "source": [
    "import pandas as pd\n",
    "\n",
    "mistake_df = pd.DataFrame(columns=['True Category', 'Mistaken Category', 'Count'])\n",
    "\n",
    "mistake_records = []\n",
    "\n",
    "for true_label, top_k_indices in zip(all_true_labels, all_top_k_indices):\n",
    "    for idx in top_k_indices[1:]:  \n",
    "        mistake_records.append((labels[true_label], labels[idx.item()]))\n",
    "\n",
    "mistake_df = pd.DataFrame(mistake_records, columns=['True Category', 'Mistaken Category'])\n",
    "mistake_summary = mistake_df.groupby(['True Category', 'Mistaken Category']).size().reset_index(name='Count')\n",
    "\n",
    "# Функция для отображения и сохранения 5 наиболее частых ошибочных категорий для каждой категории\n",
    "def display_and_save_top_5_mistakes_table(mistake_summary, labels):\n",
    "    top_5_mistakes_dict = {}\n",
    "    for label in labels:\n",
    "        mistakes = mistake_summary[mistake_summary['True Category'] == label]\n",
    "        top_5_mistakes = mistakes.sort_values(by='Count', ascending=False).head(5)\n",
    "        top_5_mistakes_dict[label] = top_5_mistakes\n",
    "    \n",
    "    final_table = pd.concat(top_5_mistakes_dict.values()).reset_index(drop=True)\n",
    "    \n",
    "    final_table.to_csv(\"final_table1.csv\", index=False)\n",
    "    \n",
    "    return final_table\n",
    "\n",
    "final_table = display_and_save_top_5_mistakes_table(mistake_summary, labels)"
   ]
  },
  {
   "cell_type": "code",
   "execution_count": 70,
   "metadata": {},
   "outputs": [],
   "source": [
    "descriptions[21]"
   ]
  },
  {
   "cell_type": "code",
   "execution_count": 68,
   "metadata": {},
   "outputs": [],
   "source": [
    "final_table[final_table[\"True Category\"] == descriptions[21]][\"True Category\"].values"
   ]
  },
  {
   "cell_type": "code",
   "execution_count": 69,
   "metadata": {},
   "outputs": [],
   "source": [
    "final_table[final_table[\"True Category\"] == descriptions[21]][\"Mistaken Category\"].values"
   ]
  },
  {
   "cell_type": "markdown",
   "metadata": {},
   "source": [
    "# Лирика"
   ]
  },
  {
   "cell_type": "code",
   "execution_count": 29,
   "metadata": {},
   "outputs": [],
   "source": [
    "from collections import defaultdict\n",
    "\n",
    "errors = defaultdict(list)\n",
    "for true_label, top_k_indices in zip(all_true_labels, all_top_k_indices):\n",
    "    for idx in top_k_indices:\n",
    "        if idx != true_label:\n",
    "            errors[true_label].append((idx, top_k_indices.tolist().count(idx)))\n",
    "\n",
    "for true_label, error_list in errors.items():\n",
    "    sorted_errors = sorted(error_list, key=lambda x: x[1], reverse=True)[:5]\n",
    "    print(f\"Top 5 errors for category {true_label} ({labels[true_label]}):\")\n",
    "    for error, count in sorted_errors:\n",
    "        print(f\"  Predicted {error} ({labels[error]}): {count} times\")\n",
    "\n",
    "all_errors = []\n",
    "for error_list in errors.values():\n",
    "    all_errors.extend(error_list)\n",
    "\n",
    "sorted_all_errors = sorted(all_errors, key=lambda x: x[1], reverse=True)[:5]\n",
    "print(\"Top 5 errors overall:\")\n",
    "for error, count in sorted_all_errors:\n",
    "    print(f\"  Predicted {error} ({labels[error]}): {count} times\")"
   ]
  },
  {
   "cell_type": "code",
   "execution_count": null,
   "metadata": {
    "id": "1doBxOkR37DC"
   },
   "outputs": [],
   "source": [
    "!git clone https://github.com/Joeclinton1/google-images-download.git\n",
    "!cd google-images-download && python setup.py install\n",
    "!rm -rf downloads/*\n",
    "!googleimagesdownload -k \"white Dress\" -l 50\n",
    "!googleimagesdownload -k \"beige Dress\" -l 50\n",
    "!googleimagesdownload -k \"yellow Dress\" -l 50\n",
    "!googleimagesdownload -k \"orange Dress\" -l 50\n",
    "!googleimagesdownload -k \"green Dress\" -l 50\n",
    "!googleimagesdownload -k \"brown Dress\" -l 50\n",
    "!googleimagesdownload -k \"red Dress\" -l 50\n",
    "!googleimagesdownload -k \"pink Dress\" -l 50\n",
    "!googleimagesdownload -k \"gray Dress\" -l 50\n",
    "!googleimagesdownload -k \"purple Dress\" -l 50\n",
    "!googleimagesdownload -k \"black Dress\" -l 50\n",
    "!googleimagesdownload -k \"blue Dress\" -l 50\n",
    "!googleimagesdownload -k \"light blue Dress\" -l 50"
   ]
  },
  {
   "cell_type": "code",
   "execution_count": 67,
   "metadata": {
    "colab": {
     "base_uri": "https://localhost:8080/",
     "height": 1000
    },
    "id": "XM5p7geaOzDW",
    "outputId": "8f5e0822-f8d2-41e1-bf9a-8c267301d5cf"
   },
   "outputs": [],
   "source": [
    "for filename in filenames_test:\n",
    "  image_labels(filename, labels = labels)"
   ]
  },
  {
   "cell_type": "markdown",
   "metadata": {},
   "source": [
    "Overall Top-5 Accuracy"
   ]
  },
  {
   "cell_type": "code",
   "execution_count": 60,
   "metadata": {
    "id": "vQL2L-8YAfjC"
   },
   "outputs": [],
   "source": [
    "## CLIP package installation"
   ]
  },
  {
   "cell_type": "code",
   "execution_count": 1,
   "metadata": {
    "id": "_o_GoEr8jIP7"
   },
   "outputs": [],
   "source": [
    "%%capture\n",
    "!conda install --yes -c pytorch pytorch=1.7.1 torchvision cudatoolkit=11.0\n",
    "!pip install ftfy regex tqdm\n",
    "!pip install git+https://github.com/openai/CLIP.git"
   ]
  },
  {
   "cell_type": "code",
   "execution_count": 3,
   "metadata": {
    "id": "lGLl_oRwjYFm"
   },
   "outputs": [],
   "source": [
    "import torch\n",
    "import clip\n",
    "from PIL import Image\n",
    "import matplotlib.pyplot as plt\n",
    "import numpy as np"
   ]
  },
  {
   "cell_type": "code",
   "execution_count": 4,
   "metadata": {
    "id": "gEEB7jtSIptn"
   },
   "outputs": [],
   "source": [
    "device = \"cuda\" if torch.cuda.is_available() else \"cpu\"\n",
    "model, preprocess = clip.load(\"ViT-B/32\", device=device)\n",
    "#model is CLIP model, preproccess is an image transformation for the model"
   ]
  }
 ],
 "metadata": {
  "kernelspec": {
   "display_name": "Python 3",
   "language": "python",
   "name": "python3"
  },
  "language_info": {
   "codemirror_mode": {
    "name": "ipython",
    "version": 3
   },
   "file_extension": ".py",
   "mimetype": "text/x-python",
   "name": "python",
   "nbconvert_exporter": "python",
   "pygments_lexer": "ipython3",
   "version": "3.8.10"
  }
 },
 "nbformat": 4,
 "nbformat_minor": 0
}
